{
 "cells": [
  {
   "cell_type": "markdown",
   "metadata": {},
   "source": [
    "# `Note:` All assignment should be done inside the notebook (Double tap on each of this text to edit)."
   ]
  },
  {
   "cell_type": "markdown",
   "metadata": {},
   "source": [
    "### `Question 1`: \n",
    "Ayo-Adeyemi Malik  \n",
    " 17100310843 "
   ]
  },
  {
   "cell_type": "markdown",
   "metadata": {},
   "source": [
    "### `Question 2`: What do you understand by natural language processing ?\n",
    "Natural Language refers to your everyday human languages that are used for communication and to pass meanings and messages such as English, french and so on. \n",
    "Natural Language Processing, is generally seen as a branch of computer science/Artificial Intelligence that deals with the interactions between computers and the human language. It seeks to help computers to process, understand, interpret and manipulate human languages or natural languages in the most valuable way possible so as to draw insights or meaning from the large amounts of data or 'Big Data' that can be gotten from them.\n",
    "Natural Language Processing or NLP involves the use of concepts such as statistical models, computational linguistics, deep learning models and machine learning models essentially with the aim of providing everyday computers with the ability to understand spoken words and written text in the same way that humans do. \n"
   ]
  },
  {
   "cell_type": "markdown",
   "metadata": {},
   "source": [
    "### `Question 3`: List some of the applications of natural language processing\n",
    "\n",
    "+ sentiment analysis - this involves the identification of attitudes, emotions or positive and negative feelings from text.\n",
    "\n",
    "+ Natural Language generation - this involves the task of converting structured information into natural language. \n",
    "\n",
    "+ Speech to text - this involves the task of converting speech data into text data. \n",
    "\n",
    "+ Document summarization -  this involves automatically generating a synopsis of a large body of text.\n",
    "\n",
    "+ Topic discovery and modeling - this is the process of accurately deciphering the meaning and themes from a collection of text while also applying advanced analytics to it to optimize and provide forecasts. \n",
    "\n",
    "+ Other applications includes, personal assistants applications such as siri, grammatical error checks by word processors such as grammarly and language translation applications such as google translate "
   ]
  },
  {
   "cell_type": "markdown",
   "metadata": {},
   "source": [
    "### `Question 4`: What are some of the challenges of NLP?\n",
    "\n",
    "+ __Ambiguity__ - This refers to sentences and phrases that potentially have two or more meanings or interpretations. There are generally three types of ambiguity. \n",
    "                                          TYPES OF AMBIGUITY\n",
    "                                          \n",
    "-Lexical ambiguity: This refers to a single word that can be used as a noun,verb or adjective.\n",
    "\n",
    "-Semantic ambiguity: This refers to an entire sentence having potentially different interpretations or senses particularly when used out of context. For Example, I saw the boy on the balcony with my binoculars. This sentence could mean that i saw the boy through my binoculars or i saw the boy using my binoculars on the balcony. \n",
    "\n",
    "-Structural ambiguity: This refers to the possibility of two or more meanings within a single sentence or sequence of words. It differs from lexical ambiguity in the sense that the latter refers to just a single word. \n",
    "\n",
    "+ __Errors in speech and text__ - Misspelled words or words used wrongly can create problems in text analysis as although grammar correction applications can fix common mistakes, they might not understand the intentions of the writer. Different accents and ways of speaking can also throw off machine understanding. \n",
    "\n",
    "+ __Domain-Specific Languages__ - Different fields and industries may make use of different languages or terms in communication means. For Example, processing methods used for speech and text in the architecture industry may vary from those used in processing legal documents. \n",
    "\n",
    "+ __Low Resource Languages__ - Most NLP resources have been configured for widely used languages and as such, there is a risk of leaving behind or overlooking languages spoken in areas with minimal access to technology. \n",
    "\n"
   ]
  },
  {
   "cell_type": "markdown",
   "metadata": {},
   "source": [
    "### `Question 5`: Using some of the string operations learnt from this weeks topic (like: `set(), istitle(), split(), replace(), etc.`)\n",
    "### Declare 4 different strings (sentences) and apply the functions/methods.\n"
   ]
  },
  {
   "cell_type": "markdown",
   "metadata": {},
   "source": [
    ">>>> # Have a wonderful week ahead."
   ]
  },
  {
   "cell_type": "code",
   "execution_count": 9,
   "metadata": {},
   "outputs": [],
   "source": [
    "text1 =\"My name is Malik and this is a course on natural language processing\""
   ]
  },
  {
   "cell_type": "code",
   "execution_count": 12,
   "metadata": {},
   "outputs": [],
   "source": [
    "text2 = text1.split(' ')"
   ]
  },
  {
   "cell_type": "code",
   "execution_count": 13,
   "metadata": {},
   "outputs": [
    {
     "data": {
      "text/plain": [
       "['My',\n",
       " 'name',\n",
       " 'is',\n",
       " 'Malik',\n",
       " 'and',\n",
       " 'this',\n",
       " 'is',\n",
       " 'a',\n",
       " 'course',\n",
       " 'on',\n",
       " 'natural',\n",
       " 'language',\n",
       " 'processing']"
      ]
     },
     "execution_count": 13,
     "metadata": {},
     "output_type": "execute_result"
    }
   ],
   "source": [
    "text2"
   ]
  },
  {
   "cell_type": "code",
   "execution_count": 22,
   "metadata": {},
   "outputs": [],
   "source": [
    "text3 = 'immediately'"
   ]
  },
  {
   "cell_type": "code",
   "execution_count": 23,
   "metadata": {},
   "outputs": [],
   "source": [
    "text4 = text3.split('ly')\n"
   ]
  },
  {
   "cell_type": "code",
   "execution_count": 24,
   "metadata": {},
   "outputs": [
    {
     "data": {
      "text/plain": [
       "['immediate', '']"
      ]
     },
     "execution_count": 24,
     "metadata": {},
     "output_type": "execute_result"
    }
   ],
   "source": [
    "text4"
   ]
  },
  {
   "cell_type": "code",
   "execution_count": 25,
   "metadata": {},
   "outputs": [
    {
     "data": {
      "text/plain": [
       "'immediately'"
      ]
     },
     "execution_count": 25,
     "metadata": {},
     "output_type": "execute_result"
    }
   ],
   "source": [
    "'ly'.join(text4)"
   ]
  },
  {
   "cell_type": "code",
   "execution_count": 26,
   "metadata": {},
   "outputs": [],
   "source": [
    "text5 = 'Let me tell the tale cause you told the tale'\n"
   ]
  },
  {
   "cell_type": "code",
   "execution_count": 28,
   "metadata": {},
   "outputs": [
    {
     "data": {
      "text/plain": [
       "'Let me teee the taee cause you toed the taee'"
      ]
     },
     "execution_count": 28,
     "metadata": {},
     "output_type": "execute_result"
    }
   ],
   "source": [
    "text6 = text5.replace('l','e')\n",
    "text6"
   ]
  },
  {
   "cell_type": "code",
   "execution_count": 61,
   "metadata": {},
   "outputs": [],
   "source": [
    "text7 = 'may be or may not be'"
   ]
  },
  {
   "cell_type": "code",
   "execution_count": 62,
   "metadata": {},
   "outputs": [
    {
     "data": {
      "text/plain": [
       "6"
      ]
     },
     "execution_count": 62,
     "metadata": {},
     "output_type": "execute_result"
    }
   ],
   "source": [
    "text8 = text7.split(' ')\n",
    "\n",
    "len(text8)"
   ]
  },
  {
   "cell_type": "code",
   "execution_count": 63,
   "metadata": {},
   "outputs": [
    {
     "data": {
      "text/plain": [
       "{'be', 'may', 'not', 'or'}"
      ]
     },
     "execution_count": 63,
     "metadata": {},
     "output_type": "execute_result"
    }
   ],
   "source": [
    "set(text8)"
   ]
  },
  {
   "cell_type": "code",
   "execution_count": 66,
   "metadata": {},
   "outputs": [],
   "source": [
    "text9 = 'Money drives the world'"
   ]
  },
  {
   "cell_type": "code",
   "execution_count": 67,
   "metadata": {},
   "outputs": [],
   "source": [
    "text10 = text9.split(' ')"
   ]
  },
  {
   "cell_type": "code",
   "execution_count": 68,
   "metadata": {},
   "outputs": [
    {
     "data": {
      "text/plain": [
       "['Money']"
      ]
     },
     "execution_count": 68,
     "metadata": {},
     "output_type": "execute_result"
    }
   ],
   "source": [
    "[W for W in text10 if W.istitle()]"
   ]
  },
  {
   "cell_type": "code",
   "execution_count": null,
   "metadata": {},
   "outputs": [],
   "source": []
  },
  {
   "cell_type": "code",
   "execution_count": null,
   "metadata": {},
   "outputs": [],
   "source": []
  },
  {
   "cell_type": "code",
   "execution_count": null,
   "metadata": {},
   "outputs": [],
   "source": []
  },
  {
   "cell_type": "code",
   "execution_count": null,
   "metadata": {},
   "outputs": [],
   "source": []
  }
 ],
 "metadata": {
  "kernelspec": {
   "display_name": "Python 3",
   "language": "python",
   "name": "python3"
  },
  "language_info": {
   "codemirror_mode": {
    "name": "ipython",
    "version": 3
   },
   "file_extension": ".py",
   "mimetype": "text/x-python",
   "name": "python",
   "nbconvert_exporter": "python",
   "pygments_lexer": "ipython3",
   "version": "3.8.5"
  }
 },
 "nbformat": 4,
 "nbformat_minor": 2
}
